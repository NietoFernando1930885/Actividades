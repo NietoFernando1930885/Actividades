{
  "nbformat": 4,
  "nbformat_minor": 0,
  "metadata": {
    "colab": {
      "provenance": [],
      "collapsed_sections": []
    },
    "kernelspec": {
      "name": "python3",
      "display_name": "Python 3"
    },
    "language_info": {
      "name": "python"
    }
  },
  "cells": [
    {
      "cell_type": "markdown",
      "source": [
        "Fernando Nieto Rios 1930885                                                        \n",
        "David Fernando Sustaita Zuñiga 1923518                                                                                                   \n",
        "Alejandro Guadalupe Flores Mendoza 1665530\n"
      ],
      "metadata": {
        "id": "AVJvwUGCSbL-"
      }
    },
    {
      "cell_type": "code",
      "source": [
        "# importar librerías \n",
        "import tensorflow as tf\n",
        "from tensorflow.keras import datasets, layers, models\n",
        "import matplotlib.pyplot as plt"
      ],
      "metadata": {
        "id": "cPWGWlwbo-88"
      },
      "execution_count": 50,
      "outputs": []
    },
    {
      "cell_type": "code",
      "execution_count": 51,
      "metadata": {
        "id": "u4zdGkHG9UqD"
      },
      "outputs": [],
      "source": [
        "import cv2\n",
        "import glob\n",
        "import matplotlib.pyplot as plt\n",
        "\n",
        "import tensorflow as tf\n",
        "from tensorflow import keras\n",
        "\n",
        "import numpy as np\n",
        "import matplotlib.pyplot as plt\n",
        "from sklearn.model_selection import train_test_split"
      ]
    },
    {
      "cell_type": "code",
      "source": [
        "imagenes_full=[]\n",
        "etiquetas_full =[]\n",
        "num = 0"
      ],
      "metadata": {
        "id": "Tt4LwrGsPdu4"
      },
      "execution_count": 52,
      "outputs": []
    },
    {
      "cell_type": "code",
      "source": [
        "for m in \"Mecatronic\":\n",
        "  path = glob.glob(\"/content/Ingenieria/\" + str(num) + \"/*.jpg\")\n",
        "  for n in path:\n",
        "    test_image = cv2.imread(n, cv2.IMREAD_GRAYSCALE)\n",
        "  \n",
        "    # Formato de imagen\n",
        "    img_resized = cv2.resize(test_image, (28, 28), interpolation=cv2.INTER_LINEAR)\n",
        "    img_resized = cv2.bitwise_not(img_resized)\n",
        "\n",
        "    #Guardar imagenes\n",
        "    imagenes_full.append(img_resized)\n",
        "    etiquetas_full.append(num)\n",
        "  num +=1"
      ],
      "metadata": {
        "id": "wf3-XDjka_W0"
      },
      "execution_count": 53,
      "outputs": []
    },
    {
      "cell_type": "code",
      "source": [
        "clas_names = [\"0\", \"1\", \"2\", \"3\", \"4\",\n",
        "              \"5\", \"6\", \"7\", \"8\", \"9\"]"
      ],
      "metadata": {
        "id": "3kJdFCzodfGX"
      },
      "execution_count": 54,
      "outputs": []
    },
    {
      "cell_type": "code",
      "source": [
        "gde = len(imagenes_full)\n",
        "plt.imshow(imagenes_full[139], cmap='gray')\n",
        "print(gde)\n",
        "plt.xlabel(etiquetas_full[139])"
      ],
      "metadata": {
        "colab": {
          "base_uri": "https://localhost:8080/",
          "height": 316
        },
        "id": "i2I-yH6UdkMH",
        "outputId": "aa2028d9-0f1d-4a0e-d830-5d9e7ef3e51c"
      },
      "execution_count": 56,
      "outputs": [
        {
          "output_type": "stream",
          "name": "stdout",
          "text": [
            "290\n"
          ]
        },
        {
          "output_type": "execute_result",
          "data": {
            "text/plain": [
              "Text(0.5, 0, '4')"
            ]
          },
          "metadata": {},
          "execution_count": 56
        },
        {
          "output_type": "display_data",
          "data": {
            "text/plain": [
              "<Figure size 432x288 with 1 Axes>"
            ],
            "image/png": "[encoded data removed]"
          },
          "metadata": {
            "needs_background": "light"
          }
        }
      ]
    },
    {
      "cell_type": "code",
      "source": [
        "y = np.array(etiquetas_full)\n",
        "X = np.array(imagenes_full, dtype=np.uint8)"
      ],
      "metadata": {
        "id": "fLEaG7yXdptt"
      },
      "execution_count": 57,
      "outputs": []
    },
    {
      "cell_type": "code",
      "source": [
        "train_X,test_X,train_Y,test_Y = train_test_split(X,y,test_size=0.2)\n",
        "print('Training data shape : ', train_X.shape, train_Y.shape)\n",
        "print('Testing data shape : ', test_X.shape, test_Y.shape)"
      ],
      "metadata": {
        "id": "C_CkUN07dkI-",
        "colab": {
          "base_uri": "https://localhost:8080/"
        },
        "outputId": "44383302-0f09-4b00-8cfd-e413b7753df1"
      },
      "execution_count": 58,
      "outputs": [
        {
          "output_type": "stream",
          "name": "stdout",
          "text": [
            "Training data shape :  (232, 28, 28) (232,)\n",
            "Testing data shape :  (58, 28, 28) (58,)\n"
          ]
        }
      ]
    },
    {
      "cell_type": "code",
      "source": [
        "train_X = train_X / 255.\n",
        "test_X = test_X / 255."
      ],
      "metadata": {
        "id": "OV-4BGk-dwkb"
      },
      "execution_count": 59,
      "outputs": []
    },
    {
      "cell_type": "code",
      "source": [
        "plt.figure(figsize=(10,10))\n",
        "for i in range(25):\n",
        "    plt.subplot(5,5,i+1)\n",
        "    plt.xticks([])\n",
        "    plt.yticks([])\n",
        "    plt.grid(False)\n",
        "    plt.imshow(train_X[i], cmap=plt.cm.binary)\n",
        "    plt.xlabel([train_Y[i]])\n",
        "plt.show()"
      ],
      "metadata": {
        "id": "ibDvtbS2dzKw",
        "colab": {
          "base_uri": "https://localhost:8080/",
          "height": 589
        },
        "outputId": "b11594dc-2af0-4253-c7b1-97407ba25093"
      },
      "execution_count": 60,
      "outputs": [
        {
          "output_type": "display_data",
          "data": {
            "text/plain": [
              "<Figure size 720x720 with 25 Axes>"
            ],
            "image/png": "[encoded data removed]"
          },
          "metadata": {}
        }
      ]
    },
    {
      "cell_type": "code",
      "source": [
        "model = keras.Sequential([\n",
        "    keras.layers.Flatten(input_shape=(28, 28)),\n",
        "    keras.layers.Dense(128, activation='relu'),\n",
        "    keras.layers.Dense(10, activation='softmax')\n",
        "])\n"
      ],
      "metadata": {
        "id": "auZdeSLfd3Td"
      },
      "execution_count": 61,
      "outputs": []
    },
    {
      "cell_type": "code",
      "source": [
        "model.compile(optimizer='adam',\n",
        "              loss='sparse_categorical_crossentropy',\n",
        "              metrics=['accuracy'])"
      ],
      "metadata": {
        "id": "oYsZZbCcd6cW"
      },
      "execution_count": 62,
      "outputs": []
    },
    {
      "cell_type": "code",
      "source": [
        "history = model.fit(train_X, train_Y, epochs=10, validation_data=(test_X, test_Y))"
      ],
      "metadata": {
        "id": "QksXtRHMd835",
        "colab": {
          "base_uri": "https://localhost:8080/"
        },
        "outputId": "23308b8a-f821-4787-82d9-61b3ae85da80"
      },
      "execution_count": 63,
      "outputs": [
        {
          "output_type": "stream",
          "name": "stdout",
          "text": [
            "Epoch 1/10\n",
            "8/8 [==============================] - 1s 34ms/step - loss: 2.5116 - accuracy: 0.1034 - val_loss: 2.3120 - val_accuracy: 0.1379\n",
            "Epoch 2/10\n",
            "8/8 [==============================] - 0s 8ms/step - loss: 2.3217 - accuracy: 0.1983 - val_loss: 2.3010 - val_accuracy: 0.1552\n",
            "Epoch 3/10\n",
            "8/8 [==============================] - 0s 7ms/step - loss: 2.2401 - accuracy: 0.3060 - val_loss: 2.2421 - val_accuracy: 0.1897\n",
            "Epoch 4/10\n",
            "8/8 [==============================] - 0s 6ms/step - loss: 2.1244 - accuracy: 0.3750 - val_loss: 2.1969 - val_accuracy: 0.2759\n",
            "Epoch 5/10\n",
            "8/8 [==============================] - 0s 8ms/step - loss: 2.0831 - accuracy: 0.4483 - val_loss: 2.1951 - val_accuracy: 0.2414\n",
            "Epoch 6/10\n",
            "8/8 [==============================] - 0s 9ms/step - loss: 1.9902 - accuracy: 0.5216 - val_loss: 2.1500 - val_accuracy: 0.3103\n",
            "Epoch 7/10\n",
            "8/8 [==============================] - 0s 9ms/step - loss: 1.9451 - accuracy: 0.5043 - val_loss: 2.1259 - val_accuracy: 0.2931\n",
            "Epoch 8/10\n",
            "8/8 [==============================] - 0s 9ms/step - loss: 1.9247 - accuracy: 0.5129 - val_loss: 2.1257 - val_accuracy: 0.3103\n",
            "Epoch 9/10\n",
            "8/8 [==============================] - 0s 7ms/step - loss: 1.8362 - accuracy: 0.5388 - val_loss: 2.1259 - val_accuracy: 0.2931\n",
            "Epoch 10/10\n",
            "8/8 [==============================] - 0s 6ms/step - loss: 1.7755 - accuracy: 0.5345 - val_loss: 2.0602 - val_accuracy: 0.3448\n"
          ]
        }
      ]
    },
    {
      "cell_type": "code",
      "source": [
        "test_loss, test_acc = model.evaluate(test_X,  test_Y, verbose=2)\n",
        "\n",
        "print('\\nTest accuracy:', test_acc)"
      ],
      "metadata": {
        "id": "_5bPuliVeAnF",
        "colab": {
          "base_uri": "https://localhost:8080/"
        },
        "outputId": "b4ca51b7-19ae-489c-9433-4b7b705ac2cb"
      },
      "execution_count": 64,
      "outputs": [
        {
          "output_type": "stream",
          "name": "stdout",
          "text": [
            "2/2 - 0s - loss: 2.0602 - accuracy: 0.3448 - 25ms/epoch - 12ms/step\n",
            "\n",
            "Test accuracy: 0.3448275923728943\n"
          ]
        }
      ]
    },
    {
      "cell_type": "code",
      "source": [
        "plt.plot(history.history['accuracy'], label='accuracy')\n",
        "plt.plot(history.history['val_accuracy'], label = 'val_accuracy')\n",
        "plt.xlabel('Epoch')\n",
        "plt.ylabel('Accuracy')\n",
        "plt.ylim([0.1, 1])\n",
        "plt.legend(loc='lower right')\n",
        "\n",
        "test_loss, test_acc = model.evaluate(test_X,  test_Y, verbose=2)"
      ],
      "metadata": {
        "id": "IS45ze2JeDM1",
        "colab": {
          "base_uri": "https://localhost:8080/",
          "height": 301
        },
        "outputId": "bffa028e-adce-4b4e-e541-e3a0e8dd4058"
      },
      "execution_count": 65,
      "outputs": [
        {
          "output_type": "stream",
          "name": "stdout",
          "text": [
            "2/2 - 0s - loss: 2.0602 - accuracy: 0.3448 - 22ms/epoch - 11ms/step\n"
          ]
        },
        {
          "output_type": "display_data",
          "data": {
            "text/plain": [
              "<Figure size 432x288 with 1 Axes>"
            ],
            "image/png": "[encoded data removed]"
          },
          "metadata": {
            "needs_background": "light"
          }
        }
      ]
    },
    {
      "cell_type": "code",
      "source": [
        "predictions = model.predict(test_X)"
      ],
      "metadata": {
        "id": "zyduxBs_eFgx",
        "colab": {
          "base_uri": "https://localhost:8080/"
        },
        "outputId": "b28f2cb3-1c24-486d-df88-6dea07d187bd"
      },
      "execution_count": 66,
      "outputs": [
        {
          "output_type": "stream",
          "name": "stdout",
          "text": [
            "2/2 [==============================] - 0s 6ms/step\n"
          ]
        }
      ]
    },
    {
      "cell_type": "markdown",
      "source": [
        "# ***`Primera Prediccion`***"
      ],
      "metadata": {
        "id": "K-jdAkxMeM9k"
      }
    },
    {
      "cell_type": "code",
      "source": [
        "predictions[5]"
      ],
      "metadata": {
        "id": "K_ASi304eP1-",
        "colab": {
          "base_uri": "https://localhost:8080/"
        },
        "outputId": "645a8825-f5a0-4ac3-d435-dc85b88f0132"
      },
      "execution_count": 67,
      "outputs": [
        {
          "output_type": "execute_result",
          "data": {
            "text/plain": [
              "array([0.13340887, 0.10770469, 0.12903695, 0.09973809, 0.09453513,\n",
              "       0.04038964, 0.10522544, 0.08930537, 0.10738867, 0.09326717],\n",
              "      dtype=float32)"
            ]
          },
          "metadata": {},
          "execution_count": 67
        }
      ]
    },
    {
      "cell_type": "code",
      "source": [
        "np.argmax(predictions[5])"
      ],
      "metadata": {
        "id": "tFHWIzrLeSMH",
        "colab": {
          "base_uri": "https://localhost:8080/"
        },
        "outputId": "b958b3e1-4ec9-4de4-c2ec-f6aecca40def"
      },
      "execution_count": 68,
      "outputs": [
        {
          "output_type": "execute_result",
          "data": {
            "text/plain": [
              "0"
            ]
          },
          "metadata": {},
          "execution_count": 68
        }
      ]
    },
    {
      "cell_type": "code",
      "source": [
        "test_Y[5]"
      ],
      "metadata": {
        "id": "uKopCTfYeUWQ",
        "colab": {
          "base_uri": "https://localhost:8080/"
        },
        "outputId": "8b137c28-0135-4c5d-bd5c-78145350b72e"
      },
      "execution_count": 69,
      "outputs": [
        {
          "output_type": "execute_result",
          "data": {
            "text/plain": [
              "0"
            ]
          },
          "metadata": {},
          "execution_count": 69
        }
      ]
    },
    {
      "cell_type": "code",
      "source": [
        "plt.imshow(test_X[5])\n"
      ],
      "metadata": {
        "id": "_lQeOI2UeXdj",
        "colab": {
          "base_uri": "https://localhost:8080/",
          "height": 283
        },
        "outputId": "132a2951-0052-417d-e8cb-1d87d6a7f5e1"
      },
      "execution_count": 70,
      "outputs": [
        {
          "output_type": "execute_result",
          "data": {
            "text/plain": [
              "<matplotlib.image.AxesImage at 0x7fb067fe75d0>"
            ]
          },
          "metadata": {},
          "execution_count": 70
        },
        {
          "output_type": "display_data",
          "data": {
            "text/plain": [
              "<Figure size 432x288 with 1 Axes>"
            ],
            "image/png": "[encoded data removed]"
          },
          "metadata": {
            "needs_background": "light"
          }
        }
      ]
    },
    {
      "cell_type": "markdown",
      "source": [
        "# ***`Segunda Prediccion`***"
      ],
      "metadata": {
        "id": "nZMYc0a1e-EO"
      }
    },
    {
      "cell_type": "code",
      "source": [
        "predictions[10]"
      ],
      "metadata": {
        "id": "RSMWB_D_ecuh",
        "colab": {
          "base_uri": "https://localhost:8080/"
        },
        "outputId": "0814a490-ec74-4f1f-fff3-76fc73853fbe"
      },
      "execution_count": 71,
      "outputs": [
        {
          "output_type": "execute_result",
          "data": {
            "text/plain": [
              "array([0.10097344, 0.12037939, 0.10446435, 0.10103304, 0.10332837,\n",
              "       0.08483826, 0.09189282, 0.0975804 , 0.0986046 , 0.0969053 ],\n",
              "      dtype=float32)"
            ]
          },
          "metadata": {},
          "execution_count": 71
        }
      ]
    },
    {
      "cell_type": "code",
      "source": [
        "np.argmax(predictions[10])"
      ],
      "metadata": {
        "id": "_w54r-vNedwL",
        "colab": {
          "base_uri": "https://localhost:8080/"
        },
        "outputId": "14a319d2-69e7-4020-d286-4631ebe7d4b4"
      },
      "execution_count": 72,
      "outputs": [
        {
          "output_type": "execute_result",
          "data": {
            "text/plain": [
              "1"
            ]
          },
          "metadata": {},
          "execution_count": 72
        }
      ]
    },
    {
      "cell_type": "code",
      "source": [
        "test_Y[10]"
      ],
      "metadata": {
        "id": "6qOjE4DUefsp",
        "colab": {
          "base_uri": "https://localhost:8080/"
        },
        "outputId": "00d97ebe-6a05-4400-efb0-48ad1c617256"
      },
      "execution_count": 73,
      "outputs": [
        {
          "output_type": "execute_result",
          "data": {
            "text/plain": [
              "6"
            ]
          },
          "metadata": {},
          "execution_count": 73
        }
      ]
    },
    {
      "cell_type": "code",
      "source": [
        "plt.imshow(test_X[10])"
      ],
      "metadata": {
        "id": "VIsRi8LiejBx",
        "colab": {
          "base_uri": "https://localhost:8080/",
          "height": 283
        },
        "outputId": "a0b09418-141e-493e-ba6e-ae2f42d793c2"
      },
      "execution_count": 74,
      "outputs": [
        {
          "output_type": "execute_result",
          "data": {
            "text/plain": [
              "<matplotlib.image.AxesImage at 0x7fb06b66b610>"
            ]
          },
          "metadata": {},
          "execution_count": 74
        },
        {
          "output_type": "display_data",
          "data": {
            "text/plain": [
              "<Figure size 432x288 with 1 Axes>"
            ],
            "image/png": "[encoded data removed]"
          },
          "metadata": {
            "needs_background": "light"
          }
        }
      ]
    },
    {
      "cell_type": "markdown",
      "source": [
        "# ***`Tercera Prediccion`***"
      ],
      "metadata": {
        "id": "To9Sf88fen92"
      }
    },
    {
      "cell_type": "code",
      "source": [
        "predictions[30]"
      ],
      "metadata": {
        "id": "iX_Mxoixej2y",
        "colab": {
          "base_uri": "https://localhost:8080/"
        },
        "outputId": "9522141e-45d6-4daa-e218-e7b12d0449d1"
      },
      "execution_count": 76,
      "outputs": [
        {
          "output_type": "execute_result",
          "data": {
            "text/plain": [
              "array([0.08052251, 0.11936044, 0.09564593, 0.08562158, 0.11232971,\n",
              "       0.06515859, 0.09933548, 0.11238795, 0.11432259, 0.11531521],\n",
              "      dtype=float32)"
            ]
          },
          "metadata": {},
          "execution_count": 76
        }
      ]
    },
    {
      "cell_type": "code",
      "source": [
        "np.argmax(predictions[30])"
      ],
      "metadata": {
        "id": "Mor6uosDexHK",
        "colab": {
          "base_uri": "https://localhost:8080/"
        },
        "outputId": "e35d8202-bd2d-4e7b-ba3c-59af5912ab3b"
      },
      "execution_count": 78,
      "outputs": [
        {
          "output_type": "execute_result",
          "data": {
            "text/plain": [
              "1"
            ]
          },
          "metadata": {},
          "execution_count": 78
        }
      ]
    },
    {
      "cell_type": "code",
      "source": [
        "test_Y[30]"
      ],
      "metadata": {
        "id": "_gf0cF64ezYY",
        "colab": {
          "base_uri": "https://localhost:8080/"
        },
        "outputId": "c8725a49-cc6c-49d1-cc14-e628308fa76d"
      },
      "execution_count": 80,
      "outputs": [
        {
          "output_type": "execute_result",
          "data": {
            "text/plain": [
              "6"
            ]
          },
          "metadata": {},
          "execution_count": 80
        }
      ]
    },
    {
      "cell_type": "code",
      "source": [
        "plt.imshow(test_X[30])"
      ],
      "metadata": {
        "id": "HQrRCLzTez2-",
        "colab": {
          "base_uri": "https://localhost:8080/",
          "height": 283
        },
        "outputId": "169490ad-5f3f-4ead-ba24-8666d2c3dfee"
      },
      "execution_count": 81,
      "outputs": [
        {
          "output_type": "execute_result",
          "data": {
            "text/plain": [
              "<matplotlib.image.AxesImage at 0x7fb06b5ccd50>"
            ]
          },
          "metadata": {},
          "execution_count": 81
        },
        {
          "output_type": "display_data",
          "data": {
            "text/plain": [
              "<Figure size 432x288 with 1 Axes>"
            ],
            "image/png": "[encoded data removed]"
          },
          "metadata": {
            "needs_background": "light"
          }
        }
      ]
    }
  ]
}