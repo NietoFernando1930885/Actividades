{
  "nbformat": 4,
  "nbformat_minor": 0,
  "metadata": {
    "colab": {
      "provenance": [],
      "authorship_tag": "ABX9TyPafOB5Pt2od1SsV4kjhnTy",
      "include_colab_link": true
    },
    "kernelspec": {
      "name": "python3",
      "display_name": "Python 3"
    },
    "language_info": {
      "name": "python"
    }
  },
  "cells": [
    {
      "cell_type": "markdown",
      "metadata": {
        "id": "view-in-github",
        "colab_type": "text"
      },
      "source": [
        "<a href=\"https://colab.research.google.com/github/NietoFernando1930885/Actividades/blob/main/A2_Actividad_en_python.ipynb\" target=\"_parent\"><img src=\"https://colab.research.google.com/assets/colab-badge.svg\" alt=\"Open In Colab\"/></a>"
      ]
    },
    {
      "cell_type": "markdown",
      "source": [
        "# Actividad Num.2\n",
        "Ejercicios de Python en Google Colab."
      ],
      "metadata": {
        "id": "u_XiJfE2F2pq"
      }
    },
    {
      "cell_type": "code",
      "execution_count": null,
      "metadata": {
        "colab": {
          "base_uri": "https://localhost:8080/"
        },
        "id": "ra9i9AJDCWXC",
        "outputId": "f51cd1f8-876f-445f-c014-eff525f986c0"
      },
      "outputs": [
        {
          "output_type": "stream",
          "name": "stdout",
          "text": [
            "Hola Fernando, ¿como estas?, te puedo pedir un favor y crees poder ayudarme, escribeme tu nombre completo\n"
          ]
        }
      ],
      "source": [
        "print (\"Hola Fernando, ¿como estas?, te puedo pedir un favor y crees poder ayudarme, escribeme tu nombre completo\")"
      ]
    },
    {
      "cell_type": "code",
      "source": [
        "lista = [ 1, 2, 3, 4, 5, 6, 7, 8, 9, 10]\n",
        "def funcion(lista):\n",
        "  print(lista[-1])\n",
        "  for x in range(len(lista)):\n",
        "    print(lista[1, 2, 3, 4, 5, 6, 7, 8, 9, 10])\n",
        "\n",
        "\n"
      ],
      "metadata": {
        "id": "Bd9G6WNxGRqS"
      },
      "execution_count": null,
      "outputs": []
    },
    {
      "cell_type": "code",
      "source": [],
      "metadata": {
        "id": "h-NiJHaCWisP"
      },
      "execution_count": null,
      "outputs": []
    }
  ]
}